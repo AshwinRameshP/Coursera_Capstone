{
 "cells": [
  {
   "cell_type": "code",
   "execution_count": 164,
   "metadata": {},
   "outputs": [],
   "source": [
    "import pandas as pd"
   ]
  },
  {
   "cell_type": "markdown",
   "metadata": {},
   "source": [
    "Scrape the wikipedia page to a data frame"
   ]
  },
  {
   "cell_type": "code",
   "execution_count": 165,
   "metadata": {},
   "outputs": [
    {
     "name": "stdout",
     "output_type": "stream",
     "text": [
      "                   Borough                                       Neighborhood\n",
      "Postcode                                                                     \n",
      "M1A           Not assigned                                       Not assigned\n",
      "M2A           Not assigned                                       Not assigned\n",
      "M3A             North York                                          Parkwoods\n",
      "M4A             North York                                   Victoria Village\n",
      "M5A       Downtown Toronto                                       Harbourfront\n",
      "M6A             North York                                   Lawrence Heights\n",
      "M6A             North York                                     Lawrence Manor\n",
      "M7A           Queen's Park                                       Not assigned\n",
      "M8A           Not assigned                                       Not assigned\n",
      "M9A       Downtown Toronto                                       Queen's Park\n",
      "M1B            Scarborough                                              Rouge\n",
      "M1B            Scarborough                                            Malvern\n",
      "M2B           Not assigned                                       Not assigned\n",
      "M3B             North York                                    Don Mills North\n",
      "M4B              East York                                   Woodbine Gardens\n",
      "M4B              East York                                      Parkview Hill\n",
      "M5B       Downtown Toronto                                            Ryerson\n",
      "M5B       Downtown Toronto                                    Garden District\n",
      "M6B             North York                                          Glencairn\n",
      "M7B           Not assigned                                       Not assigned\n",
      "M8B           Not assigned                                       Not assigned\n",
      "M9B              Etobicoke                                         Cloverdale\n",
      "M9B              Etobicoke                                          Islington\n",
      "M9B              Etobicoke                                       Martin Grove\n",
      "M9B              Etobicoke                                   Princess Gardens\n",
      "M9B              Etobicoke                                    West Deane Park\n",
      "M1C            Scarborough                                     Highland Creek\n",
      "M1C            Scarborough                                         Rouge Hill\n",
      "M1C            Scarborough                                         Port Union\n",
      "M2C           Not assigned                                       Not assigned\n",
      "...                    ...                                                ...\n",
      "M9X           Not assigned                                       Not assigned\n",
      "M1Y           Not assigned                                       Not assigned\n",
      "M2Y           Not assigned                                       Not assigned\n",
      "M3Y           Not assigned                                       Not assigned\n",
      "M4Y       Downtown Toronto                               Church and Wellesley\n",
      "M5Y           Not assigned                                       Not assigned\n",
      "M6Y           Not assigned                                       Not assigned\n",
      "M7Y           East Toronto  Business Reply Mail Processing Centre 969 Eastern\n",
      "M8Y              Etobicoke                                         Humber Bay\n",
      "M8Y              Etobicoke                                   King's Mill Park\n",
      "M8Y              Etobicoke                           Kingsway Park South East\n",
      "M8Y              Etobicoke                                          Mimico NE\n",
      "M8Y              Etobicoke                                     Old Mill South\n",
      "M8Y              Etobicoke                                 The Queensway East\n",
      "M8Y              Etobicoke                              Royal York South East\n",
      "M8Y              Etobicoke                                           Sunnylea\n",
      "M9Y           Not assigned                                       Not assigned\n",
      "M1Z           Not assigned                                       Not assigned\n",
      "M2Z           Not assigned                                       Not assigned\n",
      "M3Z           Not assigned                                       Not assigned\n",
      "M4Z           Not assigned                                       Not assigned\n",
      "M5Z           Not assigned                                       Not assigned\n",
      "M6Z           Not assigned                                       Not assigned\n",
      "M7Z           Not assigned                                       Not assigned\n",
      "M8Z              Etobicoke                           Kingsway Park South West\n",
      "M8Z              Etobicoke                                          Mimico NW\n",
      "M8Z              Etobicoke                                 The Queensway West\n",
      "M8Z              Etobicoke                              Royal York South West\n",
      "M8Z              Etobicoke                                     South of Bloor\n",
      "M9Z           Not assigned                                       Not assigned\n",
      "\n",
      "[287 rows x 2 columns]\n"
     ]
    }
   ],
   "source": [
    "htmlPage = \"https://en.wikipedia.org/wiki/List_of_postal_codes_of_Canada:_M\"\n",
    "df = pd.read_html(htmlPage,index_col=0,header=0 )[0]\n",
    "print(df)"
   ]
  },
  {
   "cell_type": "markdown",
   "metadata": {},
   "source": [
    "Ignore cells with a borough that is Not assigned."
   ]
  },
  {
   "cell_type": "code",
   "execution_count": 166,
   "metadata": {},
   "outputs": [
    {
     "name": "stdout",
     "output_type": "stream",
     "text": [
      "                   Borough                                       Neighborhood\n",
      "Postcode                                                                     \n",
      "M3A             North York                                          Parkwoods\n",
      "M4A             North York                                   Victoria Village\n",
      "M5A       Downtown Toronto                                       Harbourfront\n",
      "M6A             North York                                   Lawrence Heights\n",
      "M6A             North York                                     Lawrence Manor\n",
      "M7A           Queen's Park                                       Not assigned\n",
      "M9A       Downtown Toronto                                       Queen's Park\n",
      "M1B            Scarborough                                              Rouge\n",
      "M1B            Scarborough                                            Malvern\n",
      "M3B             North York                                    Don Mills North\n",
      "M4B              East York                                   Woodbine Gardens\n",
      "M4B              East York                                      Parkview Hill\n",
      "M5B       Downtown Toronto                                            Ryerson\n",
      "M5B       Downtown Toronto                                    Garden District\n",
      "M6B             North York                                          Glencairn\n",
      "M9B              Etobicoke                                         Cloverdale\n",
      "M9B              Etobicoke                                          Islington\n",
      "M9B              Etobicoke                                       Martin Grove\n",
      "M9B              Etobicoke                                   Princess Gardens\n",
      "M9B              Etobicoke                                    West Deane Park\n",
      "M1C            Scarborough                                     Highland Creek\n",
      "M1C            Scarborough                                         Rouge Hill\n",
      "M1C            Scarborough                                         Port Union\n",
      "M3C             North York                                    Flemingdon Park\n",
      "M3C             North York                                    Don Mills South\n",
      "M4C              East York                                   Woodbine Heights\n",
      "M5C       Downtown Toronto                                     St. James Town\n",
      "M6C                   York                                 Humewood-Cedarvale\n",
      "M9C              Etobicoke                                  Bloordale Gardens\n",
      "M9C              Etobicoke                                           Eringate\n",
      "...                    ...                                                ...\n",
      "M9V              Etobicoke                                        Thistletown\n",
      "M1W            Scarborough                                    L'Amoreaux West\n",
      "M4W       Downtown Toronto                                           Rosedale\n",
      "M5W       Downtown Toronto                    Stn A PO Boxes 25 The Esplanade\n",
      "M8W              Etobicoke                                          Alderwood\n",
      "M8W              Etobicoke                                        Long Branch\n",
      "M9W              Etobicoke                                          Northwest\n",
      "M1X            Scarborough                                        Upper Rouge\n",
      "M4X       Downtown Toronto                                        Cabbagetown\n",
      "M4X       Downtown Toronto                                     St. James Town\n",
      "M5X       Downtown Toronto                               First Canadian Place\n",
      "M5X       Downtown Toronto                                   Underground city\n",
      "M8X              Etobicoke                                       The Kingsway\n",
      "M8X              Etobicoke                                    Montgomery Road\n",
      "M8X              Etobicoke                                     Old Mill North\n",
      "M4Y       Downtown Toronto                               Church and Wellesley\n",
      "M7Y           East Toronto  Business Reply Mail Processing Centre 969 Eastern\n",
      "M8Y              Etobicoke                                         Humber Bay\n",
      "M8Y              Etobicoke                                   King's Mill Park\n",
      "M8Y              Etobicoke                           Kingsway Park South East\n",
      "M8Y              Etobicoke                                          Mimico NE\n",
      "M8Y              Etobicoke                                     Old Mill South\n",
      "M8Y              Etobicoke                                 The Queensway East\n",
      "M8Y              Etobicoke                              Royal York South East\n",
      "M8Y              Etobicoke                                           Sunnylea\n",
      "M8Z              Etobicoke                           Kingsway Park South West\n",
      "M8Z              Etobicoke                                          Mimico NW\n",
      "M8Z              Etobicoke                                 The Queensway West\n",
      "M8Z              Etobicoke                              Royal York South West\n",
      "M8Z              Etobicoke                                     South of Bloor\n",
      "\n",
      "[210 rows x 2 columns]\n"
     ]
    }
   ],
   "source": [
    "df=df[df.Borough!=\"Not assigned\"]\n",
    "print(df)"
   ]
  },
  {
   "cell_type": "markdown",
   "metadata": {},
   "source": [
    "Merge the neighborhoods based on postal code."
   ]
  },
  {
   "cell_type": "code",
   "execution_count": 167,
   "metadata": {},
   "outputs": [
    {
     "name": "stdout",
     "output_type": "stream",
     "text": [
      "                   Borough                                       Neighborhood\n",
      "Postcode                                                                     \n",
      "M3A             North York                                          Parkwoods\n",
      "M4A             North York                                   Victoria Village\n",
      "M5A       Downtown Toronto                                       Harbourfront\n",
      "M6A             North York                    Lawrence Heights,Lawrence Manor\n",
      "M7A           Queen's Park                                       Not assigned\n",
      "M9A       Downtown Toronto                                       Queen's Park\n",
      "M1B            Scarborough                                      Rouge,Malvern\n",
      "M3B             North York                                    Don Mills North\n",
      "M4B              East York                     Woodbine Gardens,Parkview Hill\n",
      "M5B       Downtown Toronto                            Ryerson,Garden District\n",
      "M6B             North York                                          Glencairn\n",
      "M9B              Etobicoke  Cloverdale,Islington,Martin Grove,Princess Gar...\n",
      "M1C            Scarborough               Highland Creek,Rouge Hill,Port Union\n",
      "M3C             North York                    Flemingdon Park,Don Mills South\n",
      "M4C              East York                                   Woodbine Heights\n",
      "M5C       Downtown Toronto                                     St. James Town\n",
      "M6C                   York                                 Humewood-Cedarvale\n",
      "M9C              Etobicoke  Bloordale Gardens,Eringate,Markland Wood,Old B...\n",
      "M1E            Scarborough                    Guildwood,Morningside,West Hill\n",
      "M4E           East Toronto                                        The Beaches\n",
      "M5E       Downtown Toronto                                        Berczy Park\n",
      "M6E                   York                                Caledonia-Fairbanks\n",
      "M1G            Scarborough                                             Woburn\n",
      "M4G              East York                                            Leaside\n",
      "M5G       Downtown Toronto                                 Central Bay Street\n",
      "M6G       Downtown Toronto                                           Christie\n",
      "M1H            Scarborough                                          Cedarbrae\n",
      "M2H             North York                                  Hillcrest Village\n",
      "M3H             North York      Bathurst Manor,Downsview North,Wilson Heights\n",
      "M4H              East York                                   Thorncliffe Park\n",
      "...                    ...                                                ...\n",
      "M4R        Central Toronto                                 North Toronto West\n",
      "M5R        Central Toronto                  The Annex,North Midtown,Yorkville\n",
      "M6R           West Toronto                              Parkdale,Roncesvalles\n",
      "M7R            Mississauga              Canada Post Gateway Processing Centre\n",
      "M9R              Etobicoke  Kingsview Village,Martin Grove Gardens,Richvie...\n",
      "M1S            Scarborough                                          Agincourt\n",
      "M4S        Central Toronto                                         Davisville\n",
      "M5S       Downtown Toronto                      Harbord,University of Toronto\n",
      "M6S           West Toronto                                  Runnymede,Swansea\n",
      "M1T            Scarborough              Clarks Corners,Sullivan,Tam O'Shanter\n",
      "M4T        Central Toronto                         Moore Park,Summerhill East\n",
      "M5T       Downtown Toronto            Chinatown,Grange Park,Kensington Market\n",
      "M1V            Scarborough  Agincourt North,L'Amoreaux East,Milliken,Steel...\n",
      "M4V        Central Toronto  Deer Park,Forest Hill SE,Rathnelly,South Hill,...\n",
      "M5V       Downtown Toronto  CN Tower,Bathurst Quay,Island airport,Harbourf...\n",
      "M8V              Etobicoke         Humber Bay Shores,Mimico South,New Toronto\n",
      "M9V              Etobicoke  Albion Gardens,Beaumond Heights,Humbergate,Jam...\n",
      "M1W            Scarborough                                    L'Amoreaux West\n",
      "M4W       Downtown Toronto                                           Rosedale\n",
      "M5W       Downtown Toronto                    Stn A PO Boxes 25 The Esplanade\n",
      "M8W              Etobicoke                              Alderwood,Long Branch\n",
      "M9W              Etobicoke                                          Northwest\n",
      "M1X            Scarborough                                        Upper Rouge\n",
      "M4X       Downtown Toronto                         Cabbagetown,St. James Town\n",
      "M5X       Downtown Toronto              First Canadian Place,Underground city\n",
      "M8X              Etobicoke        The Kingsway,Montgomery Road,Old Mill North\n",
      "M4Y       Downtown Toronto                               Church and Wellesley\n",
      "M7Y           East Toronto  Business Reply Mail Processing Centre 969 Eastern\n",
      "M8Y              Etobicoke  Humber Bay,King's Mill Park,Kingsway Park Sout...\n",
      "M8Z              Etobicoke  Kingsway Park South West,Mimico NW,The Queensw...\n",
      "\n",
      "[103 rows x 2 columns]\n"
     ]
    }
   ],
   "source": [
    "df['Neighborhood']=df.groupby('Postcode')['Neighborhood'].apply(','.join)\n",
    "df=df.drop_duplicates()\n",
    "print(df)"
   ]
  },
  {
   "cell_type": "markdown",
   "metadata": {},
   "source": [
    "If neighborhood is not assigned, set it same as borough value."
   ]
  },
  {
   "cell_type": "code",
   "execution_count": 168,
   "metadata": {},
   "outputs": [
    {
     "name": "stdout",
     "output_type": "stream",
     "text": [
      "                   Borough                                       Neighborhood\n",
      "Postcode                                                                     \n",
      "M3A             North York                                          Parkwoods\n",
      "M4A             North York                                   Victoria Village\n",
      "M5A       Downtown Toronto                                       Harbourfront\n",
      "M6A             North York                    Lawrence Heights,Lawrence Manor\n",
      "M7A           Queen's Park                                       Queen's Park\n",
      "M9A       Downtown Toronto                                       Queen's Park\n",
      "M1B            Scarborough                                      Rouge,Malvern\n",
      "M3B             North York                                    Don Mills North\n",
      "M4B              East York                     Woodbine Gardens,Parkview Hill\n",
      "M5B       Downtown Toronto                            Ryerson,Garden District\n",
      "M6B             North York                                          Glencairn\n",
      "M9B              Etobicoke  Cloverdale,Islington,Martin Grove,Princess Gar...\n",
      "M1C            Scarborough               Highland Creek,Rouge Hill,Port Union\n",
      "M3C             North York                    Flemingdon Park,Don Mills South\n",
      "M4C              East York                                   Woodbine Heights\n",
      "M5C       Downtown Toronto                                     St. James Town\n",
      "M6C                   York                                 Humewood-Cedarvale\n",
      "M9C              Etobicoke  Bloordale Gardens,Eringate,Markland Wood,Old B...\n",
      "M1E            Scarborough                    Guildwood,Morningside,West Hill\n",
      "M4E           East Toronto                                        The Beaches\n",
      "M5E       Downtown Toronto                                        Berczy Park\n",
      "M6E                   York                                Caledonia-Fairbanks\n",
      "M1G            Scarborough                                             Woburn\n",
      "M4G              East York                                            Leaside\n",
      "M5G       Downtown Toronto                                 Central Bay Street\n",
      "M6G       Downtown Toronto                                           Christie\n",
      "M1H            Scarborough                                          Cedarbrae\n",
      "M2H             North York                                  Hillcrest Village\n",
      "M3H             North York      Bathurst Manor,Downsview North,Wilson Heights\n",
      "M4H              East York                                   Thorncliffe Park\n",
      "...                    ...                                                ...\n",
      "M4R        Central Toronto                                 North Toronto West\n",
      "M5R        Central Toronto                  The Annex,North Midtown,Yorkville\n",
      "M6R           West Toronto                              Parkdale,Roncesvalles\n",
      "M7R            Mississauga              Canada Post Gateway Processing Centre\n",
      "M9R              Etobicoke  Kingsview Village,Martin Grove Gardens,Richvie...\n",
      "M1S            Scarborough                                          Agincourt\n",
      "M4S        Central Toronto                                         Davisville\n",
      "M5S       Downtown Toronto                      Harbord,University of Toronto\n",
      "M6S           West Toronto                                  Runnymede,Swansea\n",
      "M1T            Scarborough              Clarks Corners,Sullivan,Tam O'Shanter\n",
      "M4T        Central Toronto                         Moore Park,Summerhill East\n",
      "M5T       Downtown Toronto            Chinatown,Grange Park,Kensington Market\n",
      "M1V            Scarborough  Agincourt North,L'Amoreaux East,Milliken,Steel...\n",
      "M4V        Central Toronto  Deer Park,Forest Hill SE,Rathnelly,South Hill,...\n",
      "M5V       Downtown Toronto  CN Tower,Bathurst Quay,Island airport,Harbourf...\n",
      "M8V              Etobicoke         Humber Bay Shores,Mimico South,New Toronto\n",
      "M9V              Etobicoke  Albion Gardens,Beaumond Heights,Humbergate,Jam...\n",
      "M1W            Scarborough                                    L'Amoreaux West\n",
      "M4W       Downtown Toronto                                           Rosedale\n",
      "M5W       Downtown Toronto                    Stn A PO Boxes 25 The Esplanade\n",
      "M8W              Etobicoke                              Alderwood,Long Branch\n",
      "M9W              Etobicoke                                          Northwest\n",
      "M1X            Scarborough                                        Upper Rouge\n",
      "M4X       Downtown Toronto                         Cabbagetown,St. James Town\n",
      "M5X       Downtown Toronto              First Canadian Place,Underground city\n",
      "M8X              Etobicoke        The Kingsway,Montgomery Road,Old Mill North\n",
      "M4Y       Downtown Toronto                               Church and Wellesley\n",
      "M7Y           East Toronto  Business Reply Mail Processing Centre 969 Eastern\n",
      "M8Y              Etobicoke  Humber Bay,King's Mill Park,Kingsway Park Sout...\n",
      "M8Z              Etobicoke  Kingsway Park South West,Mimico NW,The Queensw...\n",
      "\n",
      "[103 rows x 2 columns]\n"
     ]
    }
   ],
   "source": [
    "df['Neighborhood'].loc[df.Neighborhood =='Not assigned']=df.Borough\n",
    "print(df)"
   ]
  },
  {
   "cell_type": "markdown",
   "metadata": {},
   "source": [
    "Print number of rows of the data frame"
   ]
  },
  {
   "cell_type": "code",
   "execution_count": 169,
   "metadata": {},
   "outputs": [
    {
     "name": "stdout",
     "output_type": "stream",
     "text": [
      "103 rows\n"
     ]
    }
   ],
   "source": [
    "print(df.shape[0] ,\"rows\")"
   ]
  },
  {
   "cell_type": "markdown",
   "metadata": {},
   "source": [
    "ADDING latitude and Longitude to the data frame"
   ]
  },
  {
   "cell_type": "code",
   "execution_count": 177,
   "metadata": {
    "scrolled": true
   },
   "outputs": [
    {
     "ename": "ModuleNotFoundError",
     "evalue": "No module named 'geocoder'",
     "output_type": "error",
     "traceback": [
      "\u001b[1;31m---------------------------------------------------------------------------\u001b[0m",
      "\u001b[1;31mModuleNotFoundError\u001b[0m                       Traceback (most recent call last)",
      "\u001b[1;32m<ipython-input-177-15d80b1bb123>\u001b[0m in \u001b[0;36m<module>\u001b[1;34m()\u001b[0m\n\u001b[1;32m----> 1\u001b[1;33m \u001b[1;32mimport\u001b[0m \u001b[0mgeocoder\u001b[0m \u001b[1;31m# import geocoder\u001b[0m\u001b[1;33m\u001b[0m\u001b[0m\n\u001b[0m\u001b[0;32m      2\u001b[0m \u001b[1;33m\u001b[0m\u001b[0m\n\u001b[0;32m      3\u001b[0m \u001b[1;31m# initialize your variable to None\u001b[0m\u001b[1;33m\u001b[0m\u001b[1;33m\u001b[0m\u001b[0m\n\u001b[0;32m      4\u001b[0m \u001b[0mlat_lng_coords\u001b[0m \u001b[1;33m=\u001b[0m \u001b[1;32mNone\u001b[0m\u001b[1;33m\u001b[0m\u001b[0m\n\u001b[0;32m      5\u001b[0m \u001b[1;33m\u001b[0m\u001b[0m\n",
      "\u001b[1;31mModuleNotFoundError\u001b[0m: No module named 'geocoder'"
     ]
    }
   ],
   "source": [
    "import geocoder # import geocoder\n",
    "\n",
    "# initialize your variable to None\n",
    "lat_lng_coords = None\n",
    "\n",
    "# loop until you get the coordinates\n",
    "while(lat_lng_coords is None):\n",
    "  g = geocoder.google('{}, Toronto, Ontario'.format(postal_code))\n",
    "  lat_lng_coords = g.latlng\n",
    "\n",
    "latitude = lat_lng_coords[0]\n",
    "longitude = lat_lng_coords[1]"
   ]
  },
  {
   "cell_type": "code",
   "execution_count": null,
   "metadata": {},
   "outputs": [],
   "source": []
  }
 ],
 "metadata": {
  "kernelspec": {
   "display_name": "Python 3",
   "language": "python",
   "name": "python3"
  },
  "language_info": {
   "codemirror_mode": {
    "name": "ipython",
    "version": 3
   },
   "file_extension": ".py",
   "mimetype": "text/x-python",
   "name": "python",
   "nbconvert_exporter": "python",
   "pygments_lexer": "ipython3",
   "version": "3.6.5"
  }
 },
 "nbformat": 4,
 "nbformat_minor": 2
}
