{
 "cells": [
  {
   "cell_type": "markdown",
   "metadata": {},
   "source": [
    "# Restaurant Location in Bangalore"
   ]
  },
  {
   "cell_type": "markdown",
   "metadata": {},
   "source": [
    "## Business Problem"
   ]
  },
  {
   "cell_type": "markdown",
   "metadata": {},
   "source": [
    "To determine an ideal location or neighborhood in which a Restaurant can be set up in Bangalore,India.\n",
    "This project is intended to better assist young entrepreneur and businessmen to find an ideal location to start up a business in one of the major cities of India , Banaglore. "
   ]
  },
  {
   "cell_type": "markdown",
   "metadata": {},
   "source": [
    "###  Problem Description:"
   ]
  },
  {
   "cell_type": "markdown",
   "metadata": {},
   "source": [
    "A restaurant is a business which prepares and serves food and drink to customers in return for money, either paid before the meal, after the meal, or with an open account. The Bangalore city is also known as the IT hub  or more popularly as Silicon Valley of india, has attracted a large audiance of like minded youths to this city from across the globe. \n",
    "There exists numerous restaurants around the city to which foodies all over the city travel to have a bite.So it's a promising business in this IT capital.\n",
    "There are a number of factors the could influence to find an apt location for setting up a restaurant which include:\n",
    "    1. Population\n",
    "    2. Near by Venues where floating population may be high.\n",
    "    3. Local Competitors\n",
    "    4. Saturated markets\n",
    "    5. Ease of access , etc.\n",
    "    "
   ]
  },
  {
   "cell_type": "markdown",
   "metadata": {},
   "source": []
  }
 ],
 "metadata": {
  "kernelspec": {
   "display_name": "Python 3",
   "language": "python",
   "name": "python3"
  },
  "language_info": {
   "codemirror_mode": {
    "name": "ipython",
    "version": 3
   },
   "file_extension": ".py",
   "mimetype": "text/x-python",
   "name": "python",
   "nbconvert_exporter": "python",
   "pygments_lexer": "ipython3",
   "version": "3.6.5"
  }
 },
 "nbformat": 4,
 "nbformat_minor": 2
}
